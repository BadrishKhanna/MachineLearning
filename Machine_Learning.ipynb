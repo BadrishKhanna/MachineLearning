{
  "nbformat": 4,
  "nbformat_minor": 0,
  "metadata": {
    "colab": {
      "provenance": [],
      "authorship_tag": "ABX9TyMDEuU6Wn2IFy2lgZoeR8yM",
      "include_colab_link": true
    },
    "kernelspec": {
      "name": "python3",
      "display_name": "Python 3"
    },
    "language_info": {
      "name": "python"
    }
  },
  "cells": [
    {
      "cell_type": "markdown",
      "metadata": {
        "id": "view-in-github",
        "colab_type": "text"
      },
      "source": [
        "<a href=\"https://colab.research.google.com/github/BadrishKhanna/MachineLearning/blob/main/Machine_Learning.ipynb\" target=\"_parent\"><img src=\"https://colab.research.google.com/assets/colab-badge.svg\" alt=\"Open In Colab\"/></a>"
      ]
    },
    {
      "cell_type": "code",
      "source": [
        "%%writefile main.py\n",
        "import pandas as pd\n",
        "import build_the_model as btm\n",
        "import cluster_the_data as ctd\n",
        "import vizualize_the_data as vtd\n",
        "import evaluate_the_model as etd\n",
        "def main():\n",
        "\n",
        "   #Call the functions\n",
        "   btm.btm()\n",
        "   etd.etm()\n",
        "   ctd.ctd()\n",
        "   vtd.vtdk()\n",
        "   vtd.vtdm()\n",
        "\n",
        "if __name__ == \"__main__\":\n",
        "     main()\n"
      ],
      "metadata": {
        "colab": {
          "base_uri": "https://localhost:8080/"
        },
        "id": "R_Ac1Ki9iSgi",
        "outputId": "7ef3d233-8d4e-4a34-e5fe-c7b8fe11c13c"
      },
      "execution_count": null,
      "outputs": [
        {
          "output_type": "stream",
          "name": "stdout",
          "text": [
            "Overwriting main.py\n"
          ]
        }
      ]
    },
    {
      "cell_type": "code",
      "source": [
        "%%writefile build_the_model.py\n",
        "from sklearn.linear_model import LinearRegression\n",
        "from sklearn.model_selection import train_test_split\n",
        "import data\n",
        "import pandas as pd\n",
        "\n",
        "Y_test = None\n",
        "predictions = None\n",
        "def btm():\n",
        "  global X_train, X_test, Y_train, Y_test,predictions\n",
        "  X = data.df[['trip_id', 'start_hour', 'distance_km', 'passengers', 'weather']]\n",
        "  X = pd.get_dummies(X,columns=['weather'])\n",
        "  Y = data.df['trip_duration_min']\n",
        "  model = LinearRegression()\n",
        "  model.fit(X,Y)\n",
        "\n",
        "  #Split the data\n",
        "  X_train, X_test, Y_train, Y_test = train_test_split(X,Y,test_size=0.4,random_state=42)\n",
        "  model.fit(X_train,Y_train)\n",
        "  predictions = model.predict(X_test)"
      ],
      "metadata": {
        "colab": {
          "base_uri": "https://localhost:8080/"
        },
        "id": "Ib0SWdqeiSyE",
        "outputId": "97213e4d-0302-4deb-919f-459a96bacb22"
      },
      "execution_count": null,
      "outputs": [
        {
          "output_type": "stream",
          "name": "stdout",
          "text": [
            "Overwriting build_the_model.py\n"
          ]
        }
      ]
    },
    {
      "cell_type": "code",
      "source": [
        "%%writefile evaluate_the_model.py\n",
        "from sklearn.metrics import mean_squared_error as MSE\n",
        "from sklearn.metrics import mean_absolute_error as MAE\n",
        "from sklearn.metrics import r2_score as R2\n",
        "import build_the_model as btm\n",
        "def etm():\n",
        "  print(\"MAE:\", MAE(btm.Y_test, btm.predictions))\n",
        "  print(\"R²:\", R2(btm.Y_test, btm.predictions))"
      ],
      "metadata": {
        "colab": {
          "base_uri": "https://localhost:8080/"
        },
        "id": "0_qJdE1fiS6q",
        "outputId": "75c62ef8-71ac-43d8-89fc-602bef9bf0ce"
      },
      "execution_count": null,
      "outputs": [
        {
          "output_type": "stream",
          "name": "stdout",
          "text": [
            "Overwriting evaluate_the_model.py\n"
          ]
        }
      ]
    },
    {
      "cell_type": "code",
      "source": [
        "%%writefile cluster_the_data.py\n",
        "from sklearn.cluster import KMeans\n",
        "import data\n",
        "def ctd():\n",
        "  cluster_data = data.df[['distance_km','trip_duration_min']]\n",
        "  kmeans = KMeans(n_clusters=3)\n",
        "  data.df[\"cluster\"] = kmeans.fit_predict(cluster_data)"
      ],
      "metadata": {
        "colab": {
          "base_uri": "https://localhost:8080/"
        },
        "id": "DF2YTBwJiTDo",
        "outputId": "e354b97c-4e57-4e89-90d8-34eee2ccf777"
      },
      "execution_count": null,
      "outputs": [
        {
          "output_type": "stream",
          "name": "stdout",
          "text": [
            "Overwriting cluster_the_data.py\n"
          ]
        }
      ]
    },
    {
      "cell_type": "code",
      "source": [
        "%%writefile vizualize_the_data.py\n",
        "import seaborn as sns\n",
        "import matplotlib.pyplot as plt\n",
        "import data\n",
        "import build_the_model as btm\n",
        "\n",
        "def vtdk():\n",
        "  sns.scatterplot(\n",
        "    data=data.df,\n",
        "    x=\"distance_km\",\n",
        "    y=\"trip_duration_min\",\n",
        "    hue=\"cluster\",\n",
        "    palette=\"Set2\"\n",
        "  )\n",
        "  plt.title(\"K-Means Bike Sharing Clusters (distance vs time)\")\n",
        "  plt.xlabel(\"Distance\")\n",
        "  plt.ylabel(\"Time\")\n",
        "  plt.show()\n",
        "\n",
        "def vtdm():\n",
        "  sns.scatterplot(x=btm.Y_test, y=btm.predictions)\n",
        "  plt.xlabel(\"Actual Time\")\n",
        "  plt.ylabel(\"Predicted Time\")\n",
        "  plt.title(\"Actual vs Predicted Time\")\n",
        "  plt.grid(True)\n",
        "  plt.show()"
      ],
      "metadata": {
        "colab": {
          "base_uri": "https://localhost:8080/"
        },
        "id": "rRqtgFq-iTLF",
        "outputId": "a7ecc42d-a836-46f4-9a98-8a38dcf74bc1"
      },
      "execution_count": null,
      "outputs": [
        {
          "output_type": "stream",
          "name": "stdout",
          "text": [
            "Overwriting vizualize_the_data.py\n"
          ]
        }
      ]
    },
    {
      "cell_type": "code",
      "source": [
        "\n",
        "!pip install pandas\n",
        "!pip install seaborn\n",
        "!pip install matplotlib\n",
        "!pip install sklearn.linear_model\n",
        "!pip install sklearn.cluster\n",
        "!pip install sklearn.metrics"
      ],
      "metadata": {
        "id": "6jH3UDqOiTSZ"
      },
      "execution_count": null,
      "outputs": []
    },
    {
      "cell_type": "code",
      "source": [
        "%%writefile data.py\n",
        "import pandas as pd\n",
        "\n",
        "df = pd.read_csv('bike_sharing.csv')\n",
        "df.columns = df.columns.str.strip()\n",
        "df.head()"
      ],
      "metadata": {
        "colab": {
          "base_uri": "https://localhost:8080/"
        },
        "id": "kVvwC4-8jRHL",
        "outputId": "4fd417ab-755e-4fd4-8c8e-36f7d6b34503"
      },
      "execution_count": null,
      "outputs": [
        {
          "output_type": "stream",
          "name": "stdout",
          "text": [
            "Writing data.py\n"
          ]
        }
      ]
    },
    {
      "cell_type": "code",
      "source": [
        "%%writefile bike_sharing.csv\n",
        "trip_id,start_hour,distance_km,passengers,weather,trip_duration_min\n",
        "1,12,7.8,2,clear,30.5\n",
        "2,18,12.3,3,rain,45.2\n",
        "3,10,5.7,1,cloudy,20.1\n",
        "4,15,10.9,2,clear,35.4\n",
        "5,19,14.8,4,rain,50.6\n",
        "6,11,6.2,1,cloudy,25.3"
      ],
      "metadata": {
        "colab": {
          "base_uri": "https://localhost:8080/"
        },
        "id": "kqsGQK7EkYRJ",
        "outputId": "22d50394-a45f-4742-b095-b19e916df500"
      },
      "execution_count": null,
      "outputs": [
        {
          "output_type": "stream",
          "name": "stdout",
          "text": [
            "Writing bike_sharing.csv\n"
          ]
        }
      ]
    },
    {
      "cell_type": "code",
      "source": [
        "import main\n",
        "main.main()"
      ],
      "metadata": {
        "id": "Pr4gVwP7niSq"
      },
      "execution_count": null,
      "outputs": []
    }
  ]
}