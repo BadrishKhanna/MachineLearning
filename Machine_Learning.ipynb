{
  "nbformat": 4,
  "nbformat_minor": 0,
  "metadata": {
    "colab": {
      "provenance": [],
      "authorship_tag": "ABX9TyMjV3irsmD0WfKIXb1S5FeT",
      "include_colab_link": true
    },
    "kernelspec": {
      "name": "python3",
      "display_name": "Python 3"
    },
    "language_info": {
      "name": "python"
    }
  },
  "cells": [
    {
      "cell_type": "markdown",
      "metadata": {
        "id": "view-in-github",
        "colab_type": "text"
      },
      "source": [
        "<a href=\"https://colab.research.google.com/github/BadrishKhanna/Machine_Learning/blob/main/Machine_Learning.ipynb\" target=\"_parent\"><img src=\"https://colab.research.google.com/assets/colab-badge.svg\" alt=\"Open In Colab\"/></a>"
      ]
    },
    {
      "cell_type": "code",
      "source": [
        "# Modules Needed - pandas,matplotlib,sns and sklearn\n",
        "\n",
        "\n",
        "%%writefile main.py\n",
        "import pandas as pd\n",
        "import build_the_model as btm\n",
        "import cluster_the_data as ctd\n",
        "import vizualize_the_data as vtd\n",
        "import evaluate_the_model as etd\n",
        "def main():\n",
        "\n",
        "   #Call the functions\n",
        "   btm.btm()\n",
        "   etd.etm()\n",
        "   ctd.ctd()\n",
        "   vtd.vtdk()\n",
        "   vtd.vtdm()\n",
        "\n",
        "if __name__ == \"__main__\":\n",
        "     main()\n"
      ],
      "metadata": {
        "id": "R_Ac1Ki9iSgi"
      },
      "execution_count": null,
      "outputs": []
    },
    {
      "cell_type": "code",
      "source": [
        "%%writefile build_the_model.py\n",
        "from sklearn.linear_model import LinearRegression\n",
        "from sklearn.model_selection import train_test_split\n",
        "import data\n",
        "import pandas as pd\n",
        "\n",
        "Y_test = None\n",
        "predictions = None\n",
        "def btm():\n",
        "  global X_train, X_test, Y_train, Y_test,predictions\n",
        "  X = data.df[['trip_id', 'start_hour', 'distance_km', 'passengers', 'weather']]\n",
        "  X = pd.get_dummies(X,columns=['weather'])\n",
        "  Y = data.df['trip_duration_min']\n",
        "  model = LinearRegression()\n",
        "  model.fit(X,Y)\n",
        "\n",
        "  #Split the data\n",
        "  X_train, X_test, Y_train, Y_test = train_test_split(X,Y,test_size=0.4,random_state=42)\n",
        "  model.fit(X_train,Y_train)\n",
        "  predictions = model.predict(X_test)"
      ],
      "metadata": {
        "id": "Ib0SWdqeiSyE"
      },
      "execution_count": null,
      "outputs": []
    },
    {
      "cell_type": "code",
      "source": [
        "%%writefile evaluate_the_model.py\n",
        "from sklearn.metrics import mean_squared_error as MSE\n",
        "from sklearn.metrics import mean_absolute_error as MAE\n",
        "from sklearn.metrics import r2_score as R2\n",
        "import build_the_model as btm\n",
        "def etm():\n",
        "  print(\"MAE:\", MAE(btm.Y_test, btm.predictions))\n",
        "  print(\"R²:\", R2(btm.Y_test, btm.predictions))"
      ],
      "metadata": {
        "id": "0_qJdE1fiS6q"
      },
      "execution_count": null,
      "outputs": []
    },
    {
      "cell_type": "code",
      "source": [
        "%%writefile cluster_the_data.py\n",
        "from sklearn.cluster import KMeans\n",
        "import data\n",
        "def ctd():\n",
        "  cluster_data = data.df[['distance_km','trip_duration_min']]\n",
        "  kmeans = KMeans(n_clusters=3)\n",
        "  data.df[\"cluster\"] = kmeans.fit_predict(cluster_data)"
      ],
      "metadata": {
        "id": "DF2YTBwJiTDo"
      },
      "execution_count": null,
      "outputs": []
    },
    {
      "cell_type": "code",
      "source": [
        "%%writefile vizualize_the_data.py\n",
        "import seaborn as sns\n",
        "import matplotlib.pyplot as plt\n",
        "import data\n",
        "import build_the_model as btm\n",
        "\n",
        "def vtdk():\n",
        "  sns.scatterplot(\n",
        "    data=data.df,\n",
        "    x=\"distance_km\",\n",
        "    y=\"trip_duration_min\",\n",
        "    hue=\"cluster\",\n",
        "    palette=\"Set2\"\n",
        "  )\n",
        "  plt.title(\"K-Means Bike Sharing Clusters (distance vs time)\")\n",
        "  plt.xlabel(\"Distance\")\n",
        "  plt.ylabel(\"Time\")\n",
        "  plt.show()\n",
        "\n",
        "def vtdm():\n",
        "  sns.scatterplot(x=btm.Y_test, y=btm.predictions)\n",
        "  plt.xlabel(\"Actual Time\")\n",
        "  plt.ylabel(\"Predicted Time\")\n",
        "  plt.title(\"Actual vs Predicted Time\")\n",
        "  plt.grid(True)\n",
        "  plt.show()"
      ],
      "metadata": {
        "id": "rRqtgFq-iTLF"
      },
      "execution_count": null,
      "outputs": []
    },
    {
      "cell_type": "code",
      "source": [
        "%%writefile data.py\n",
        "import pandas as pd\n",
        "\n",
        "df = pd.read_csv('bike_sharing.csv')\n",
        "df.columns = df.columns.str.strip()\n",
        "df.head()"
      ],
      "metadata": {
        "id": "kVvwC4-8jRHL"
      },
      "execution_count": null,
      "outputs": []
    },
    {
      "cell_type": "code",
      "source": [
        "%%writefile bike_sharing.csv\n",
        "trip_id,start_hour,distance_km,passengers,weather,trip_duration_min\n",
        "1,12,7.8,2,clear,30.5\n",
        "2,18,12.3,3,rain,45.2\n",
        "3,10,5.7,1,cloudy,20.1\n",
        "4,15,10.9,2,clear,35.4\n",
        "5,19,14.8,4,rain,50.6\n",
        "6,11,6.2,1,cloudy,25.3"
      ],
      "metadata": {
        "id": "kqsGQK7EkYRJ"
      },
      "execution_count": null,
      "outputs": []
    },
    {
      "cell_type": "code",
      "source": [
        "import main\n",
        "main.main()"
      ],
      "metadata": {
        "id": "Pr4gVwP7niSq"
      },
      "execution_count": null,
      "outputs": []
    }
  ]
}