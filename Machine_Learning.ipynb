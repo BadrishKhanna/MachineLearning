{
  "nbformat": 4,
  "nbformat_minor": 0,
  "metadata": {
    "colab": {
      "provenance": [],
      "include_colab_link": true
    },
    "kernelspec": {
      "name": "python3",
      "display_name": "Python 3"
    },
    "language_info": {
      "name": "python"
    }
  },
  "cells": [
    {
      "cell_type": "markdown",
      "metadata": {
        "id": "view-in-github",
        "colab_type": "text"
      },
      "source": [
        "<a href=\"https://colab.research.google.com/github/BadrishKhanna/Machine_Learning/blob/main/Machine_Learning.ipynb\" target=\"_parent\"><img src=\"https://colab.research.google.com/assets/colab-badge.svg\" alt=\"Open In Colab\"/></a>"
      ]
    },
    {
      "cell_type": "markdown",
      "source": [
        "# Fundamental Machine Learning"
      ],
      "metadata": {
        "id": "uEctV1DmWsdt"
      }
    },
    {
      "cell_type": "markdown",
      "source": [
        "In this project, we use the details of various bike trips (*stored in bike_sharing.csv*) such as ID of the trip, distance travelled, weather during the ride etc. and train the **Linear Regression** model.\n",
        "\n",
        "\n",
        "**Objectives** :\n",
        "*   Predict the trip time based on the other details.\n",
        "*   Group the rides by similarities. (*clustering*)\n",
        "*   Plot a graph between distance travelled and time taken for the trip.\n",
        "*   Evaluate the model.\n",
        "\n",
        "\n",
        "\n"
      ],
      "metadata": {
        "id": "4V7YdKxZEVBN"
      }
    },
    {
      "cell_type": "code",
      "source": [
        "# Modules Needed - pandas,matplotlib,seaborn and sklearn\n",
        "\n",
        "\n",
        "%%writefile main.py\n",
        "import pandas as pd\n",
        "import build_the_model as btm\n",
        "import cluster_the_data as ctd\n",
        "import vizualize_the_data as vtd\n",
        "import evaluate_the_model as etm\n",
        "def main():\n",
        "\n",
        "   #Call the functions\n",
        "   btm.btm()\n",
        "   etm.etm()\n",
        "   ctd.ctd()\n",
        "   vtd.vtdk()\n",
        "   vtd.vtdm()\n",
        "\n",
        "if __name__ == \"__main__\":\n",
        "     main()\n"
      ],
      "metadata": {
        "id": "R_Ac1Ki9iSgi",
        "outputId": "0d4c818b-826e-4c61-b956-9193997134cf",
        "colab": {
          "base_uri": "https://localhost:8080/"
        }
      },
      "execution_count": null,
      "outputs": [
        {
          "output_type": "stream",
          "name": "stdout",
          "text": [
            "Writing main.py\n"
          ]
        }
      ]
    },
    {
      "cell_type": "code",
      "source": [
        "%%writefile build_the_model.py\n",
        "from sklearn.linear_model import LinearRegression\n",
        "from sklearn.model_selection import train_test_split\n",
        "import data\n",
        "import pandas as pd\n",
        "\n",
        "Y_test = None\n",
        "predictions = None\n",
        "def btm():\n",
        "  global X_train, X_test, Y_train, Y_test,predictions\n",
        "  X = data.df[['trip_id', 'start_hour', 'distance_km', 'passengers', 'weather']]\n",
        "  X = pd.get_dummies(X,columns=['weather'])\n",
        "  Y = data.df['trip_duration_min']\n",
        "  model = LinearRegression()\n",
        "  model.fit(X,Y)\n",
        "\n",
        "  #Split the data\n",
        "  X_train, X_test, Y_train, Y_test = train_test_split(X,Y,test_size=0.4,random_state=42)\n",
        "  model.fit(X_train,Y_train)\n",
        "  predictions = model.predict(X_test)"
      ],
      "metadata": {
        "id": "Ib0SWdqeiSyE",
        "outputId": "eb486b91-b9ce-4dd6-9cd2-8e6dd0b8a6bc",
        "colab": {
          "base_uri": "https://localhost:8080/"
        }
      },
      "execution_count": null,
      "outputs": [
        {
          "output_type": "stream",
          "name": "stdout",
          "text": [
            "Writing build_the_model.py\n"
          ]
        }
      ]
    },
    {
      "cell_type": "code",
      "source": [
        "%%writefile evaluate_the_model.py\n",
        "from sklearn.metrics import mean_squared_error as MSE\n",
        "from sklearn.metrics import mean_absolute_error as MAE\n",
        "from sklearn.metrics import r2_score as R2\n",
        "import build_the_model as btm\n",
        "def etm():\n",
        "  print(\"MAE:\", MAE(btm.Y_test, btm.predictions))\n",
        "  print(\"R²:\", R2(btm.Y_test, btm.predictions))"
      ],
      "metadata": {
        "id": "0_qJdE1fiS6q",
        "outputId": "876a866e-4b27-47a5-bf9f-7e8f87fa05d7",
        "colab": {
          "base_uri": "https://localhost:8080/"
        }
      },
      "execution_count": null,
      "outputs": [
        {
          "output_type": "stream",
          "name": "stdout",
          "text": [
            "Writing evaluate_the_model.py\n"
          ]
        }
      ]
    },
    {
      "cell_type": "code",
      "source": [
        "%%writefile cluster_the_data.py\n",
        "from sklearn.cluster import KMeans\n",
        "import data\n",
        "def ctd():\n",
        "  cluster_data = data.df[['distance_km','trip_duration_min']]\n",
        "  kmeans = KMeans(n_clusters=3)\n",
        "  data.df[\"cluster\"] = kmeans.fit_predict(cluster_data)"
      ],
      "metadata": {
        "id": "DF2YTBwJiTDo",
        "outputId": "0de30294-d790-4b6b-9f78-be82877add8e",
        "colab": {
          "base_uri": "https://localhost:8080/"
        }
      },
      "execution_count": null,
      "outputs": [
        {
          "output_type": "stream",
          "name": "stdout",
          "text": [
            "Writing cluster_the_data.py\n"
          ]
        }
      ]
    },
    {
      "cell_type": "code",
      "source": [
        "%%writefile vizualize_the_data.py\n",
        "import seaborn as sns\n",
        "import matplotlib.pyplot as plt\n",
        "import data\n",
        "import build_the_model as btm\n",
        "\n",
        "def vtdk():\n",
        "  sns.scatterplot(\n",
        "    data=data.df,\n",
        "    x=\"distance_km\",\n",
        "    y=\"trip_duration_min\",\n",
        "    hue=\"cluster\",\n",
        "    palette=\"Set2\"\n",
        "  )\n",
        "  plt.title(\"K-Means Bike Sharing Clusters (distance vs time)\")\n",
        "  plt.xlabel(\"Distance\")\n",
        "  plt.ylabel(\"Time\")\n",
        "  plt.show()\n",
        "\n",
        "def vtdm():\n",
        "  sns.scatterplot(x=btm.Y_test, y=btm.predictions)\n",
        "  plt.xlabel(\"Actual Time\")\n",
        "  plt.ylabel(\"Predicted Time\")\n",
        "  plt.title(\"Actual vs Predicted Time\")\n",
        "  plt.grid(True)\n",
        "  plt.show()"
      ],
      "metadata": {
        "id": "rRqtgFq-iTLF",
        "outputId": "8ddadc0f-ee0d-41ea-9845-2c9a835c9e1d",
        "colab": {
          "base_uri": "https://localhost:8080/"
        }
      },
      "execution_count": null,
      "outputs": [
        {
          "output_type": "stream",
          "name": "stdout",
          "text": [
            "Writing vizualize_the_data.py\n"
          ]
        }
      ]
    },
    {
      "cell_type": "code",
      "source": [
        "%%writefile data.py\n",
        "import pandas as pd\n",
        "\n",
        "df = pd.read_csv('bike_sharing.csv')\n",
        "df.columns = df.columns.str.strip()\n",
        "df.head()"
      ],
      "metadata": {
        "id": "kVvwC4-8jRHL",
        "outputId": "32353f91-f612-4398-90c5-7ac73379cdc9",
        "colab": {
          "base_uri": "https://localhost:8080/"
        }
      },
      "execution_count": null,
      "outputs": [
        {
          "output_type": "stream",
          "name": "stdout",
          "text": [
            "Writing data.py\n"
          ]
        }
      ]
    },
    {
      "cell_type": "code",
      "source": [
        "%%writefile bike_sharing.csv\n",
        "trip_id,start_hour,distance_km,passengers,weather,trip_duration_min\n",
        "1,12,7.8,2,clear,30.5\n",
        "2,18,12.3,3,rain,45.2\n",
        "3,10,5.7,1,cloudy,20.1\n",
        "4,15,10.9,2,clear,35.4\n",
        "5,19,14.8,4,rain,50.6\n",
        "6,11,6.2,1,cloudy,25.3"
      ],
      "metadata": {
        "id": "kqsGQK7EkYRJ",
        "outputId": "09065688-4fc5-47f3-cc33-de439b7572fc",
        "colab": {
          "base_uri": "https://localhost:8080/"
        }
      },
      "execution_count": null,
      "outputs": [
        {
          "output_type": "stream",
          "name": "stdout",
          "text": [
            "Writing bike_sharing.csv\n"
          ]
        }
      ]
    },
    {
      "cell_type": "code",
      "source": [
        "import main\n",
        "main.main()"
      ],
      "metadata": {
        "id": "Pr4gVwP7niSq",
        "outputId": "489617ee-e6c2-4953-ea3a-153632658dcb",
        "colab": {
          "base_uri": "https://localhost:8080/",
          "height": 962
        }
      },
      "execution_count": null,
      "outputs": [
        {
          "output_type": "stream",
          "name": "stdout",
          "text": [
            "MAE: 2.9345000801078136\n",
            "R²: 0.8426989287081768\n"
          ]
        },
        {
          "output_type": "display_data",
          "data": {
            "text/plain": [
              "<Figure size 640x480 with 1 Axes>"
            ],
            "image/png": "[encoded data removed]"
          },
          "metadata": {}
        },
        {
          "output_type": "display_data",
          "data": {
            "text/plain": [
              "<Figure size 640x480 with 1 Axes>"
            ],
            "image/png": "[encoded data removed]"
          },
          "metadata": {}
        }
      ]
    }
  ]
}